{
  "nbformat": 4,
  "nbformat_minor": 0,
  "metadata": {
    "colab": {
      "provenance": [],
      "toc_visible": true
    },
    "kernelspec": {
      "name": "python3",
      "display_name": "Python 3"
    },
    "language_info": {
      "name": "python"
    }
  },
  "cells": [
    {
      "cell_type": "code",
      "execution_count": 1,
      "metadata": {
        "id": "pkfaJIDwvaOm"
      },
      "outputs": [],
      "source": [
        "import math\n",
        "from abc import ABC, abstractmethod\n",
        "from typing import Union\n",
        "\n",
        "class Shape(ABC):\n",
        "\n",
        "\n",
        "    @abstractmethod\n",
        "    def area(self) -> float:\n",
        "        \"СДЕЗЬ ПРОИСХДЯТ ВЫЧЕСЛЕНИЯ, НЕ МЕШАТЬ\"\n",
        "        pass\n",
        "\n",
        "    @abstractmethod\n",
        "    def is_valid(self) -> bool:\n",
        "        \"Тут происходит проверка на возможно сущ-фигуры\"\n",
        "        pass\n",
        "\n",
        "class Circle(Shape):\n",
        "    \"\"\"Класс для представления круга\"\"\"\n",
        "\n",
        "    def __init__(self, radius: float):\n",
        "        self.radius = radius\n",
        "\n",
        "    def area(self) -> float:\n",
        "        \"\"\"Вычисляет площадь круга\"\"\"\n",
        "        if not self.is_valid():\n",
        "            raise ValueError(\"Некорректный радиус круга\")\n",
        "        return math.pi * self.radius ** 2\n",
        "\n",
        "    def is_valid(self) -> bool:\n",
        "        \"\"\"Проверяет, что радиус не отриц-ный\"\"\"\n",
        "        return self.radius > 0\n",
        "\n",
        "class Triangle(Shape):\n",
        "    \"\"\"Класс для представления треугольника\"\"\"\n",
        "\n",
        "    def __init__(self, side_a: float, side_b: float, side_c: float):\n",
        "        self.side_a = side_a\n",
        "        self.side_b = side_b\n",
        "        self.side_c = side_c\n",
        "\n",
        "    def area(self) -> float:\n",
        "        \"ХЗ, инете мне подсказал использовать формулу Геона\"\n",
        "        if not self.is_valid():\n",
        "            raise ValueError(\"Треугольник с такими сторонами не существует\")\n",
        "\n",
        "        # Полупериметр\n",
        "        p = (self.side_a + self.side_b + self.side_c) / 2\n",
        "\n",
        "        # Формула Герона\n",
        "        return math.sqrt(p * (p - self.side_a) * (p - self.side_b) * (p - self.side_c))\n",
        "\n",
        "    def is_valid(self) -> bool:\n",
        "        \"Проверка на неравенство треугольника\"\n",
        "        sides = [self.side_a, self.side_b, self.side_c]\n",
        "\n",
        "        # Все стороны должны быть положительными\n",
        "        if any(side <= 0 for side in sides):\n",
        "            return False\n",
        "\n",
        "        # Проверка неравенства треугольника\n",
        "        return (self.side_a + self.side_b > self.side_c and\n",
        "                self.side_a + self.side_c > self.side_b and\n",
        "                self.side_b + self.side_c > self.side_a)\n",
        "\n",
        "    def is_right_triangle(self, tolerance: float = 1e-10) -> bool:\n",
        "        \"Проверяет, у треугольника стоит на 18:15\"\n",
        "        if not self.is_valid():\n",
        "            return False\n",
        "\n",
        "        sides = sorted([self.side_a, self.side_b, self.side_c])\n",
        "\n",
        "        # Теоремка Пифагора\n",
        "        return abs(sides[0]**2 + sides[1]**2 - sides[2]**2) < tolerance\n",
        "\n",
        "class Rectangle(Shape):\n",
        "    \"Добавления новой фигуры - прямоугольника\"\n",
        "\n",
        "    def __init__(self, width: float, height: float):\n",
        "        self.width = width\n",
        "        self.height = height\n",
        "\n",
        "    def area(self) -> float:\n",
        "        if not self.is_valid():\n",
        "            raise ValueError(\"Некорректные размеры прямоугольника\")\n",
        "        return self.width * self.height\n",
        "\n",
        "    def is_valid(self) -> bool:\n",
        "        return self.width > 0 and self.height > 0\n",
        "\n",
        "def calculate_area(shape: Shape) -> float:\n",
        "    \"\"\"Вычисляет площадь фигуры без знания её типа в compile-time\"\"\"\n",
        "    return shape.area()\n",
        "\n",
        "# Фабричные функции для удобства\n",
        "def create_circle(radius: float) -> Circle:\n",
        "    return Circle(radius)\n",
        "\n",
        "def create_triangle(side_a: float, side_b: float, side_c: float) -> Triangle:\n",
        "    return Triangle(side_a, side_b, side_c)\n",
        "\n",
        "def create_rectangle(width: float, height: float) -> Rectangle:\n",
        "    return Rectangle(width, height)\n",
        "\n"
      ]
    },
    {
      "cell_type": "code",
      "source": [
        "\n",
        "if __name__ == \"__main__\":\n",
        "    # БаZовая фигура\n",
        "    circle = create_circle(5)\n",
        "    triangle = create_triangle(3, 4, 5)\n",
        "    rectangle = create_rectangle(4, 6)\n",
        "\n",
        "    # Вычисление площадей\n",
        "    print(f\"Площадь круга с радиусом 5: {calculate_area(circle):.2f}\")\n",
        "    print(f\"Площадь треугольника со сторонами 3,4,5: {calculate_area(triangle):.2f}\")\n",
        "    print(f\"Площадь прямоугольника 4x6: {calculate_area(rectangle):.2f}\")\n",
        "\n",
        "    # Проверка на прямоугольный треугольник\n",
        "    print(f\"Треугольник 3,4,5 прямоугольный: {triangle.is_right_triangle()}\")\n",
        "\n",
        "    # Демонстрация полиморфизма\n",
        "    shapes = [circle, triangle, rectangle]\n",
        "    total_area = sum(calculate_area(shape) for shape in shapes)\n",
        "    print(f\"Общая площадь всех фигур: {total_area:.2f}\")"
      ],
      "metadata": {
        "colab": {
          "base_uri": "https://localhost:8080/"
        },
        "id": "aWqkB1SLWw-o",
        "outputId": "cfc415dd-eea7-47ea-8901-311e3af9d89a"
      },
      "execution_count": 3,
      "outputs": [
        {
          "output_type": "stream",
          "name": "stdout",
          "text": [
            "Площадь круга с радиусом 5: 78.54\n",
            "Площадь треугольника со сторонами 3,4,5: 6.00\n",
            "Площадь прямоугольника 4x6: 24.00\n",
            "Треугольник 3,4,5 прямоугольный: True\n",
            "Общая площадь всех фигур: 108.54\n"
          ]
        }
      ]
    },
    {
      "cell_type": "code",
      "source": [],
      "metadata": {
        "id": "EMMOBmMUdPsv"
      },
      "execution_count": null,
      "outputs": []
    }
  ]
}